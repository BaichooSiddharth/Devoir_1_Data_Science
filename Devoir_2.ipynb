{
  "nbformat": 4,
  "nbformat_minor": 0,
  "metadata": {
    "colab": {
      "name": "Devoir#2.ipynb",
      "provenance": [],
      "collapsed_sections": [],
      "authorship_tag": "ABX9TyNlK3ZWVJ5mfCn3syMwk5w0",
      "include_colab_link": true
    },
    "kernelspec": {
      "name": "python3",
      "display_name": "Python 3"
    }
  },
  "cells": [
    {
      "cell_type": "markdown",
      "metadata": {
        "id": "view-in-github",
        "colab_type": "text"
      },
      "source": [
        "<a href=\"https://colab.research.google.com/github/BaichooSiddharth/Devoir_1_Data_Science/blob/master/Devoir_2.ipynb\" target=\"_parent\"><img src=\"https://colab.research.google.com/assets/colab-badge.svg\" alt=\"Open In Colab\"/></a>"
      ]
    },
    {
      "cell_type": "markdown",
      "metadata": {
        "id": "EQGbj8qdvsSE"
      },
      "source": [
        " **LOAD DATA**"
      ]
    },
    {
      "cell_type": "code",
      "metadata": {
        "id": "3gJtsI1Oa9CH",
        "colab": {
          "base_uri": "https://localhost:8080/"
        },
        "outputId": "ea642c6e-8dbe-4218-f2dd-f1cd0d3041c7"
      },
      "source": [
        "from google.colab import drive\n",
        "drive.mount('/content/drive')\n",
        "!unzip -uq \"/content/drive/My Drive/Colab Notebooks/IFT-3700/PATCH.amat.zip\" -d \"/content/drive/My Drive/Colab Notebooks/IFT-3700\" "
      ],
      "execution_count": null,
      "outputs": [
        {
          "output_type": "stream",
          "text": [
            "Mounted at /content/drive\n"
          ],
          "name": "stdout"
        }
      ]
    },
    {
      "cell_type": "code",
      "metadata": {
        "id": "NuP-C_VQ_a7p"
      },
      "source": [
        "import numpy as np\n",
        "import matplotlib.pyplot as plt\n",
        "\n",
        "\n",
        "#QUESTION 1)\n",
        "from sklearn import svm\n",
        "from sklearn.model_selection import train_test_split\n",
        "\n",
        "#QUESTION 2)\n",
        "\n",
        "#QUESTION 3)\n",
        "import matplotlib.image as mpimg\n",
        "\n",
        "#QUESTION 4)\n"
      ],
      "execution_count": null,
      "outputs": []
    },
    {
      "cell_type": "markdown",
      "metadata": {
        "id": "f1gVvBfO5C6q"
      },
      "source": [
        "## Question 1\n",
        "\n",
        "Cette question est une compétition entre les équipes et sera évaluée en fonction de la précision du classifieur produit par chaque équipe. Les données sont contenues dans le fichier PATCH.amat et il s’agit de 50000 images (28 x 28) en noir et blanc codées en binaire. Les images sont abstraites et appartiennent à deux catégories distinctes. Le fichier contient une image par ligne et chaque ligne commence par 784=28 * 28 bits associés à la couleur des pixels et suivi d’un bit représentant la classe. Le codage du fichier est lisible, mais nécessite un prétraitement pour être utilisé. L’équipe doit produire un classifieur qui sera mis en production et évalué sur des données fraîches non disponibles à l’équipe (mais qui ont exactement la même distribution). Les équipes avec une solution minimalement raisonnable seront classées en ordre de précision et le rang sera transformé en note variant de 10 à 25 sur 25."
      ]
    },
    {
      "cell_type": "code",
      "metadata": {
        "id": "iqggEp7g5TgR"
      },
      "source": [
        "'''\n",
        "On va implémenter SVM pour la classification des images \n",
        "'''\n",
        "\n",
        "data = np.loadtxt('/content/drive/My Drive/Colab Notebooks/IFT-3700/PATCH.amat')\n",
        "\n",
        "X_train, X_test = train_test_split(data, test_size = 0.2)"
      ],
      "execution_count": null,
      "outputs": []
    },
    {
      "cell_type": "code",
      "metadata": {
        "id": "pNboPOtaDVck",
        "colab": {
          "base_uri": "https://localhost:8080/"
        },
        "outputId": "804799ed-956a-4e05-e022-abbe54837572"
      },
      "source": [
        "X_value_train, X_labels_train, X_labels_test, X_value_test = [], [], [], []\n",
        "\n",
        "for i in range(len(X_train)):\n",
        "  X_value_train.append(X_train[i][1:])\n",
        "  X_labels_train.append(X_train[i][0])\n",
        "\n",
        "for i in range(len(X_test)):\n",
        "  X_value_test.append(X_test[i][1:])\n",
        "  X_labels_test.append(X_test[i][0])\n",
        "\n",
        "print(np.shape(X_value_train))"
      ],
      "execution_count": null,
      "outputs": [
        {
          "output_type": "stream",
          "text": [
            "(40000, 784)\n"
          ],
          "name": "stdout"
        }
      ]
    },
    {
      "cell_type": "code",
      "metadata": {
        "colab": {
          "base_uri": "https://localhost:8080/"
        },
        "id": "arlcpkeZu7bM",
        "outputId": "41f40510-bd9a-4a4a-f83c-385cce90bf43"
      },
      "source": [
        "print(\"Fitting model..\")\n",
        "\n",
        "clf = svm.SVC()\n",
        "clf.fit(X_value_train, X_labels_train)"
      ],
      "execution_count": null,
      "outputs": [
        {
          "output_type": "stream",
          "text": [
            "Fitting model..\n"
          ],
          "name": "stdout"
        },
        {
          "output_type": "execute_result",
          "data": {
            "text/plain": [
              "SVC(C=1.0, break_ties=False, cache_size=200, class_weight=None, coef0=0.0,\n",
              "    decision_function_shape='ovr', degree=3, gamma='scale', kernel='rbf',\n",
              "    max_iter=-1, probability=False, random_state=None, shrinking=True,\n",
              "    tol=0.001, verbose=False)"
            ]
          },
          "metadata": {
            "tags": []
          },
          "execution_count": 7
        }
      ]
    },
    {
      "cell_type": "code",
      "metadata": {
        "id": "bljN-2OgzVO6"
      },
      "source": [
        "#On compte le nombre le nombre d'occurrences justement prédit\n",
        "count = 0\n",
        "for i in range(len(X_train)):\n",
        "  pred = clf.predict([X_value_train[i]])\n",
        "  if pred[0] == X_labels_train[i]:\n",
        "    count = count + 1"
      ],
      "execution_count": null,
      "outputs": []
    },
    {
      "cell_type": "code",
      "metadata": {
        "colab": {
          "base_uri": "https://localhost:8080/"
        },
        "id": "HLCXHUNf_8uC",
        "outputId": "44a6052b-0254-439b-cec2-3006987fc487"
      },
      "source": [
        "plt.imshow(np.reshape(X_value_test[0], (28, 28)), cmap=\"gray\")"
      ],
      "execution_count": null,
      "outputs": [
        {
          "output_type": "execute_result",
          "data": {
            "text/plain": [
              "<matplotlib.image.AxesImage at 0x7f9c3b22db00>"
            ]
          },
          "metadata": {
            "tags": []
          },
          "execution_count": 9
        },
        {
          "output_type": "display_data",
          "data": {
            "image/png": "[encoded data removed]",
            "text/plain": [
              "<Figure size 432x288 with 1 Axes>"
            ]
          },
          "metadata": {
            "tags": [],
            "needs_background": "light"
          }
        }
      ]
    },
    {
      "cell_type": "code",
      "metadata": {
        "colab": {
          "base_uri": "https://localhost:8080/"
        },
        "id": "17ntXLcA0_E8",
        "outputId": "5ac8d67f-e8e9-4956-d629-9a6f51003795"
      },
      "source": [
        "print(\"Calcul de la précision du model\")\n",
        "print(\"Moyenne\")\n",
        "print(count/len(X_labels_train))"
      ],
      "execution_count": null,
      "outputs": [
        {
          "output_type": "stream",
          "text": [
            "Calcul de la précision du model\n",
            "Moyenne\n",
            "0.994375\n"
          ],
          "name": "stdout"
        }
      ]
    },
    {
      "cell_type": "markdown",
      "metadata": {
        "id": "DhYRWXkbWCyi"
      },
      "source": [
        "## Question 2 \n",
        "Imaginez qu’on vous donne un fichier contenant des données de nature astronomique. Il s’agit de données concernant 6500 milliards d’étoiles. Les données (dépassant la centaine de téraoctets) sont réparties sur 300 serveurs avec un accès rapide au disque et une bonne capacité de calcul. La connexion entre les serveurs est rapide, mais pas exceptionnelle.\n",
        "\n",
        "Les données pour chaque étoile comporte, la position dans l’espace (x,y,z), la luminosité apparente de l’étoile et sa catégorie (10 catégories possibles). Aussi, pour chaque étoile une liste de ses caractéristiques physiques représentées par 22 nombres réels est incluse.\n",
        "\n",
        "Proposez une approche distribuée qui permet de répondre aux questions suivantes et expliquez en détail toute la démarche permettant leur résolution.\n",
        "Trouvez les 1000 paires d’étoiles les plus proches (distance euclidienne de la position).\n",
        "Comptez combien d'étoiles il y a dans chaque catégorie.\n",
        "Produisez un classifieur qui, étant donné le vecteur de caractéristiques (22 nombres réels), prédit la catégorie de l’étoile.\n"
      ]
    },
    {
      "cell_type": "code",
      "metadata": {
        "id": "nKkLeYaPWH4t"
      },
      "source": [
        ""
      ],
      "execution_count": null,
      "outputs": []
    },
    {
      "cell_type": "markdown",
      "metadata": {
        "id": "5g9SPPWEWJJ7"
      },
      "source": [
        "## Question 3\n",
        "\n",
        "Expliquez en détail comment utiliser un classifieur binaire, capable d’apprendre à effectuer la classification de deux catégories, pour réaliser la classification dans un contexte ou plusieurs catégories doivent être distinguées. Considérez le cas à 3, 25, 12500 catégories et faite le contraste entre les différentes approches étudiées et le nombre de catégories.\n"
      ]
    },
    {
      "cell_type": "markdown",
      "metadata": {
        "id": "D5knwl0J7xOs"
      },
      "source": [
        "Si nous nous retrouvons avec 3, 25, 12500, nous avons un problème de classification multi-classe donc non binaire.\n",
        "\n",
        "Mais nous pouvons réduire ce problème en problème de classfication binaire en utilisant la technique *One vs. All* . On transforme **N-classes** en **N modèles de classifcations binaires**\n",
        "\n",
        "Dans la classification one-vs-All, pour l'ensemble de données des instances de classe N, nous devons générer les modèles de classificateurs N-binaires. Le nombre d'étiquettes de classe présentes dans l'ensemble de données et le nombre de classificateurs binaires générés doivent être identiques.\n",
        "\n",
        "Dans le cas de **3 catégories**, on a l'illustration ci-dessous:"
      ]
    },
    {
      "cell_type": "code",
      "metadata": {
        "colab": {
          "base_uri": "https://localhost:8080/",
          "height": 290
        },
        "id": "QgW0XqiwCUq_",
        "outputId": "96a3a17b-199a-4450-8270-1d069414abab"
      },
      "source": [
        "plt.imshow(mpimg.imread(\"svm.png\"))\n",
        "plt.title(\"Exemple de One-vs-all\")"
      ],
      "execution_count": null,
      "outputs": [
        {
          "output_type": "execute_result",
          "data": {
            "text/plain": [
              "Text(0.5, 1.0, 'Exemple de One-vs-all')"
            ]
          },
          "metadata": {
            "tags": []
          },
          "execution_count": 47
        },
        {
          "output_type": "display_data",
          "data": {
            "image/png": "[encoded data removed]",
            "text/plain": [
              "<Figure size 432x288 with 1 Axes>"
            ]
          },
          "metadata": {
            "tags": [],
            "needs_background": "light"
          }
        }
      ]
    },
    {
      "cell_type": "markdown",
      "metadata": {
        "id": "vWWBb5GHrjH1"
      },
      "source": [
        "Comme le montre l'image ci-dessus, considérons que nous avons trois classes, par exemple, le type 1 pour le vert, le type 2 pour le bleu et le type 3 pour le rouge.\n",
        "\n",
        "Maintenant, comme on vous l'a dit plus tôt, nous devons générer le même nombre de classificateurs que les étiquettes de classe sont présentes dans l'ensemble de données, nous devons donc créer ici trois classificateurs binaires pour trois classes respectives.\n",
        "\n",
        "\n",
        "\n",
        "*   Classificateur 1:- [Vert] vs [Rouge, Bleu]\n",
        "* Classificateur 2 : [Bleu] vs [Vert, Rouge]\n",
        "* Classificateur 3 : [Rouge] vs [Bleu, Vert]\n",
        "\n"
      ]
    },
    {
      "cell_type": "markdown",
      "metadata": {
        "id": "J2PU8Ca8uqKw"
      },
      "source": [
        "Nous pourrons maintenant implémenter un algorithme pour la classification binaire (e.g.: Support de vecteurs machine) pour chaque Classificateur *i, i = 1,2,3*.\r\n",
        "\r\n",
        "Cette approche exige que chaque modèle prévoie une probabilité d'appartenance à une classe ou un score de type probabiliste. L'argmax de ces scores (indice de classe avec le score le plus élevé) est ensuite utilisé pour prédire une classe."
      ]
    },
    {
      "cell_type": "code",
      "metadata": {
        "id": "gqfrsGrfuHWx"
      },
      "source": [
        ""
      ],
      "execution_count": null,
      "outputs": []
    },
    {
      "cell_type": "markdown",
      "metadata": {
        "id": "ApZDFlbbWzfp"
      },
      "source": [
        "## Question 4\n",
        "Faites une analyse des patrons existants dans le jeu de données adulte. Il est possible que le regroupement de valeurs pour certaines caractéristiques donne des résultats intéressants. Vous devez aussi discuter de l’aspect éthique concernant l’utilisation des patrons obtenus.\n"
      ]
    },
    {
      "cell_type": "code",
      "metadata": {
        "id": "jW_0jDmUW10Q"
      },
      "source": [
        ""
      ],
      "execution_count": null,
      "outputs": []
    }
  ]
}