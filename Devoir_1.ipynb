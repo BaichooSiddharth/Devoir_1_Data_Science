{
 "cells": [
  {
   "cell_type": "markdown",
   "metadata": {
    "colab_type": "text",
    "id": "view-in-github"
   },
   "source": [
    "<a href=\"https://colab.research.google.com/github/BaichooSiddharth/Devoir_1_Data_Science/blob/master/Devoir_1.ipynb\" target=\"_parent\"><img src=\"https://colab.research.google.com/assets/colab-badge.svg\" alt=\"Open In Colab\"/></a>"
   ]
  },
  {
   "cell_type": "code",
   "execution_count": 17,
   "metadata": {
    "id": "ILxNC3XHa6nN"
   },
   "outputs": [],
   "source": [
    "#on fait les imports\n",
    "import numpy as np\n",
    "from scipy.spatial import distance_matrix"
   ]
  },
  {
   "cell_type": "code",
   "execution_count": 18,
   "metadata": {},
   "outputs": [],
   "source": [
    "#on lit et on stock les valeurs qu'une fois dans cette cellule car putain sa mère c'est chiant de reload ça à chaque fois\n",
    "train_MNIST = np.genfromtxt('mnist_train.csv', delimiter=',')\n",
    "test_MNIST = np.genfromtxt('mnist_test.csv', delimiter=',')"
   ]
  },
  {
   "cell_type": "code",
   "execution_count": 19,
   "metadata": {},
   "outputs": [],
   "source": [
    "#On enlève la première rangée qui décrit chaque colonne. On a les labels qui sont à gauche du jeu de données (1ère colonne) et les valeurs sont toutes les colonnes après autour\n",
    "train_MNIST_relevant = train_MNIST[1:, :]\n",
    "test_MNIST_relevant = test_MNIST[1:, :]"
   ]
  },
  {
   "cell_type": "code",
   "execution_count": 20,
   "metadata": {},
   "outputs": [],
   "source": [
    "def groupByClassMNIST(dataset):\n",
    "    #on regroupe tous les points d'une classe en utilisant cette fonction en des dictionaires\n",
    "    labels = dataset[:, 0]\n",
    "    labels_unique = np.unique(labels)\n",
    "    dictio = dict()\n",
    "    for label in  labels_unique:\n",
    "        points = dataset[np.where(dataset[:,0] == label)]\n",
    "        dictio[label] = points\n",
    "    return dictio"
   ]
  }
 ],
 "metadata": {
  "colab": {
   "authorship_tag": "ABX9TyOEazpAHhLXJoXr7xDD/LhS",
   "collapsed_sections": [],
   "include_colab_link": true,
   "name": "Devoir#1.ipynb",
   "provenance": []
  },
  "kernelspec": {
   "display_name": "Python 3",
   "language": "python",
   "name": "python3"
  },
  "language_info": {
   "codemirror_mode": {
    "name": "ipython",
    "version": 3
   },
   "file_extension": ".py",
   "mimetype": "text/x-python",
   "name": "python",
   "nbconvert_exporter": "python",
   "pygments_lexer": "ipython3",
   "version": "3.7.3"
  }
 },
 "nbformat": 4,
 "nbformat_minor": 1
}
